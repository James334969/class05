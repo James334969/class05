{
  "nbformat": 4,
  "nbformat_minor": 0,
  "metadata": {
    "colab": {
      "name": "物件導向4.ipynb",
      "provenance": [],
      "authorship_tag": "ABX9TyOq2h5K2NjeIfgTvMZWd2BS",
      "include_colab_link": true
    },
    "kernelspec": {
      "name": "python3",
      "display_name": "Python 3"
    },
    "language_info": {
      "name": "python"
    }
  },
  "cells": [
    {
      "cell_type": "markdown",
      "metadata": {
        "id": "view-in-github",
        "colab_type": "text"
      },
      "source": [
        "<a href=\"https://colab.research.google.com/github/James334969/class05/blob/main/%E7%89%A9%E4%BB%B6%E5%B0%8E%E5%90%914.ipynb\" target=\"_parent\"><img src=\"https://colab.research.google.com/assets/colab-badge.svg\" alt=\"Open In Colab\"/></a>"
      ]
    },
    {
      "cell_type": "code",
      "execution_count": null,
      "metadata": {
        "colab": {
          "base_uri": "https://localhost:8080/"
        },
        "id": "iqzXDl7zgjFO",
        "outputId": "75f11924-1ca7-49a8-b18a-4b6dfe2c11a2"
      },
      "outputs": [
        {
          "output_type": "stream",
          "name": "stdout",
          "text": [
            "This is Person Class\n",
            "This is Person Class\n",
            "James male\n",
            "Amy female\n",
            "Hi, my name is James\n",
            "Hi, my name is Amy\n"
          ]
        }
      ],
      "source": [
        "class Person:\n",
        "    #建構子(costructer)\n",
        "    def  __init__(self,name,gender):\n",
        "        self.n = name\n",
        "        self.g = gender\n",
        "        print(\"This is Person Class\")\n",
        "\n",
        "    #method\n",
        "    def introduction(self):\n",
        "        print(f\"Hi, my name is {self.n}\")    \n",
        "#物件化(實體化)\n",
        "p1 = Person(name=\"James\",gender=\"male\")\n",
        "p2 = Person(name=\"Amy\",gender=\"female\")\n",
        "print(p1.n,p1.g)\n",
        "print(p2.n,p2.g)\n",
        "\n",
        "p1.introduction()\n",
        "p2.introduction()\n",
        "   "
      ]
    },
    {
      "cell_type": "code",
      "source": [
        "class Enemy:\n",
        "    def __init__(self):\n",
        "        self.name = \"monster\"\n",
        "        self.hp = 100\n",
        "e = Enemy()\n",
        "class Worrier:\n",
        "    def __init__(self,name,gender,weapon = \"bat\"):\n",
        "        self.lv = 1\n",
        "        self.exp = 0\n",
        "        self.n = name\n",
        "        self.g = gender\n",
        "        self.w = weapon\n",
        "        print(\"This is Worrier class\")\n",
        "    def __str__(self):\n",
        "        return f\"name:{self.n},gender:{self.g},weapon:{self.w},exp:{self.exp},lv:{self.lv}\"\n",
        "    def attack(self,enemy):\n",
        "        enemy.hp-=1\n",
        "        self.exp+=40\n",
        "        self.level_up()\n",
        "        print(f\"{self.n} attack!\")\n",
        "        print(f\"{self.n} lv={self.lv}, exp={self.exp}\")\n",
        "        print(f\"{enemy.name} hp={enemy.hp}\")\n",
        "    def level_up(self):\n",
        "        if self.exp >= 100:\n",
        "            self.lv+=1\n",
        "            self.exp-=100\n",
        "            print(\"Level Up!!\")\n",
        "w1 = Worrier(name=\"James\",gender=\"male\",weapon=\"sword\")\n",
        "w2 = Worrier(name=\"Allie\",gender=\"female\",weapon=\"longbow\")\n",
        "print(f\"worrier:{w1}\")\n",
        "#print(w1)\n",
        "for i in range(3):\n",
        "    w1.attack(enemy=e)"
      ],
      "metadata": {
        "colab": {
          "base_uri": "https://localhost:8080/"
        },
        "id": "ayMaML-rmXy6",
        "outputId": "7fd40ce6-65e4-4301-a53e-f6d24b940570"
      },
      "execution_count": null,
      "outputs": [
        {
          "output_type": "stream",
          "name": "stdout",
          "text": [
            "This is Worrier class\n",
            "This is Worrier class\n",
            "worrier:name:James,gender:male,weapon:sword,exp:0,lv:1\n",
            "James attack!\n",
            "James lv=1, exp=40\n",
            "monster hp=99\n",
            "James attack!\n",
            "James lv=1, exp=80\n",
            "monster hp=98\n",
            "Level Up!!\n",
            "James attack!\n",
            "James lv=2, exp=20\n",
            "monster hp=97\n"
          ]
        }
      ]
    },
    {
      "cell_type": "code",
      "source": [
        "class Enemy:\n",
        "    def __init__(self):\n",
        "        self.name = \"monster\"\n",
        "        self.hp = 100\n",
        "#物件化\n",
        "e = Enemy()\n",
        "class Character:\n",
        "    def __init__(self,name,gender,weapon = \"bat\"):\n",
        "        self.lv = 1\n",
        "        self.exp = 0\n",
        "        self.n = name\n",
        "        self.g = gender\n",
        "        self.w = weapon\n",
        "        print(\"This is Character class\")\n",
        "    def __str__(self):\n",
        "        return f\"name:{self.n},gender:{self.g},weapon:{self.w},exp:{self.exp},lv:{self.lv}\"\n",
        "    def attack(self,enemy):\n",
        "        enemy.hp-=1\n",
        "        self.exp+=40\n",
        "        self.level_up()\n",
        "        print(f\"{self.n} attack!\")\n",
        "        print(f\"{self.n} lv={self.lv}, exp={self.exp}\")\n",
        "        print(f\"{enemy.name} hp={enemy.hp}\")\n",
        "    def level_up(self):\n",
        "        if self.exp >= 100:\n",
        "            self.lv+=1\n",
        "            self.exp-=100\n",
        "            print(\"Level Up!!\")\n",
        "class Magician(Character):\n",
        "    def __init__(self,name,gender,weapon = \"bat\"):\n",
        "        super().__init__(name,gender,weapon)\n",
        "        self.sp = 100\n",
        "class Worrier(Character):\n",
        "    def __init__(self,name,gender,weapon = \"bat\"):\n",
        "        super().__init__(name,gender,weapon)\n",
        "        self.sp = 100\n",
        "w1 = Worrier(name=\"james\",gender=\"male\",weapon=\"sword\")\n",
        "print(w1)\n",
        "for i in range(5):\n",
        "    w1.attack(enemy = e)"
      ],
      "metadata": {
        "colab": {
          "base_uri": "https://localhost:8080/"
        },
        "id": "YFuy79ufxd70",
        "outputId": "9a44c4c1-7260-4361-9df9-1b0adf2e6174"
      },
      "execution_count": null,
      "outputs": [
        {
          "output_type": "stream",
          "name": "stdout",
          "text": [
            "This is Character class\n",
            "name:james,gender:male,weapon:sword,exp:0,lv:1\n",
            "james attack!\n",
            "james lv=1, exp=40\n",
            "monster hp=99\n",
            "james attack!\n",
            "james lv=1, exp=80\n",
            "monster hp=98\n",
            "Level Up!!\n",
            "james attack!\n",
            "james lv=2, exp=20\n",
            "monster hp=97\n",
            "james attack!\n",
            "james lv=2, exp=60\n",
            "monster hp=96\n",
            "Level Up!!\n",
            "james attack!\n",
            "james lv=3, exp=0\n",
            "monster hp=95\n"
          ]
        }
      ]
    },
    {
      "cell_type": "markdown",
      "source": [
        "#**numpy**"
      ],
      "metadata": {
        "id": "7caPUz1Z-kr0"
      }
    },
    {
      "cell_type": "code",
      "source": [
        "import numpy as np\n",
        "a = [1,2,3]\n",
        "b = [4,5,6]\n",
        "arr1 = np.array(a)\n",
        "arr2 = np.array(b)\n",
        "print(arr1+arr2)"
      ],
      "metadata": {
        "colab": {
          "base_uri": "https://localhost:8080/"
        },
        "id": "mxDzGPovyRex",
        "outputId": "5042ea85-7645-4ea3-dfe3-fb86a71573b4"
      },
      "execution_count": null,
      "outputs": [
        {
          "output_type": "stream",
          "name": "stdout",
          "text": [
            "[5 7 9]\n"
          ]
        }
      ]
    },
    {
      "cell_type": "code",
      "source": [
        "a = np.array([1,2,3])\n",
        "b = np.array([[1.0,2.0,3.0],[3.2,5.7,8.2]])\n",
        "print(f\"a: {a}\")\n",
        "print(f\"a dimension: {a.ndim}\")\n",
        "print(f\"a shape: {a.shape}\")\n",
        "print(f\"a type: {a.dtype}\")\n",
        "print(f\"b: {b}\")\n",
        "print(f\"b dimension: {b.ndim}\")\n",
        "print(f\"b shape: {b.shape}\")\n",
        "print(f\"b type: {b.dtype}\")"
      ],
      "metadata": {
        "colab": {
          "base_uri": "https://localhost:8080/"
        },
        "id": "QynlWIFa_6ex",
        "outputId": "792a4081-108c-48e8-f73a-2b06238db01b"
      },
      "execution_count": null,
      "outputs": [
        {
          "output_type": "stream",
          "name": "stdout",
          "text": [
            "a: [1 2 3]\n",
            "a dimension: 1\n",
            "a shape: (3,)\n",
            "a type: int64\n",
            "b: [[1.  2.  3. ]\n",
            " [3.2 5.7 8.2]]\n",
            "b dimension: 2\n",
            "b shape: (2, 3)\n",
            "b type: float64\n"
          ]
        }
      ]
    },
    {
      "cell_type": "code",
      "source": [
        "a = np.array([[1,2,3,4,5,6],[7,8,9,10,11,12]])\n",
        "print(a[1,2])\n",
        "print(a[0,:])"
      ],
      "metadata": {
        "colab": {
          "base_uri": "https://localhost:8080/"
        },
        "id": "WyRAydjyCjHq",
        "outputId": "c988986c-bbf0-43e6-eeba-f439d8198524"
      },
      "execution_count": null,
      "outputs": [
        {
          "output_type": "stream",
          "name": "stdout",
          "text": [
            "9\n",
            "[1 2 3 4 5 6]\n"
          ]
        }
      ]
    },
    {
      "cell_type": "code",
      "source": [
        "a = np.array([[[1,2],[3,5],[7,8]],\n",
        "              [[1,7],[-3,2],[10,2]],\n",
        "              [[6,-2],[5,-3],[7,9]],\n",
        "              [[8,5],[-2,2],[26,-2]],\n",
        "              [[1,-7],[-3,2],[-5,-2]],])\n",
        "print(a)\n",
        "print(a.shape) \n",
        "print(a[3,2,0])\n",
        "print(a[:,1,:])"
      ],
      "metadata": {
        "colab": {
          "base_uri": "https://localhost:8080/"
        },
        "id": "ZkZhQTj_ENpz",
        "outputId": "f7a36d90-1260-4f37-bcba-3514b1c8c82b"
      },
      "execution_count": null,
      "outputs": [
        {
          "output_type": "stream",
          "name": "stdout",
          "text": [
            "[[[ 1  2]\n",
            "  [ 3  5]\n",
            "  [ 7  8]]\n",
            "\n",
            " [[ 1  7]\n",
            "  [-3  2]\n",
            "  [10  2]]\n",
            "\n",
            " [[ 6 -2]\n",
            "  [ 5 -3]\n",
            "  [ 7  9]]\n",
            "\n",
            " [[ 8  5]\n",
            "  [-2  2]\n",
            "  [26 -2]]\n",
            "\n",
            " [[ 1 -7]\n",
            "  [-3  2]\n",
            "  [-5 -2]]]\n",
            "(5, 3, 2)\n",
            "26\n",
            "[[ 3  5]\n",
            " [-3  2]\n",
            " [ 5 -3]\n",
            " [-2  2]\n",
            " [-3  2]]\n"
          ]
        }
      ]
    },
    {
      "cell_type": "code",
      "source": [
        "a=np.array([[1,2],[3,4],[5,6]])\n",
        "b=np.array([[2,3,1],[5,2,1]])\n",
        "print(np.matmul(a,b))"
      ],
      "metadata": {
        "colab": {
          "base_uri": "https://localhost:8080/"
        },
        "id": "nZYVBM-jGTwx",
        "outputId": "05e6a456-3047-43ec-8869-90011d91255b"
      },
      "execution_count": null,
      "outputs": [
        {
          "output_type": "stream",
          "name": "stdout",
          "text": [
            "[[12  7  3]\n",
            " [26 17  7]\n",
            " [40 27 11]]\n"
          ]
        }
      ]
    }
  ]
}